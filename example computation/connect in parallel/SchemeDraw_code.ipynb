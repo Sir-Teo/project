{
 "cells": [
  {
   "cell_type": "code",
   "execution_count": 5,
   "metadata": {},
   "outputs": [
    {
     "data": {
      "image/png": "[encoded data removed]",
      "text/plain": [
       "<matplotlib.figure.Figure at 0x11063d898>"
      ]
     },
     "metadata": {},
     "output_type": "display_data"
    }
   ],
   "source": [
    "import SchemDraw\n",
    "import SchemDraw.elements as e\n",
    "d = SchemDraw.Drawing()\n",
    "d.push()\n",
    "d.add(e.SOURCE_V, d= 'right',label='10V') \n",
    "d.add(e.LINE, d= 'down')\n",
    "d.pop()\n",
    "d.add(e.LINE, d= 'down') \n",
    "d.add(e.RES, d='right', label='100K$\\Omega$') \n",
    "#recursively add a line object\n",
    "d.push()\n",
    "d.add(e.LINE, d= 'down') \n",
    "d.add(e.RES, d='left', label='12$\\Omega$') \n",
    "d.add(e.LINE, d = 'up')\n",
    "d.pop()\n",
    "d.draw()"
   ]
  },
  {
   "cell_type": "code",
   "execution_count": null,
   "metadata": {},
   "outputs": [],
   "source": []
  },
  {
   "cell_type": "code",
   "execution_count": null,
   "metadata": {},
   "outputs": [],
   "source": []
  }
 ],
 "metadata": {
  "kernelspec": {
   "display_name": "Python 3",
   "language": "python",
   "name": "python3"
  },
  "language_info": {
   "codemirror_mode": {
    "name": "ipython",
    "version": 3
   },
   "file_extension": ".py",
   "mimetype": "text/x-python",
   "name": "python",
   "nbconvert_exporter": "python",
   "pygments_lexer": "ipython3",
   "version": "3.6.4"
  }
 },
 "nbformat": 4,
 "nbformat_minor": 2
}
